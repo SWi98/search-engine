{
 "cells": [
  {
   "cell_type": "code",
   "execution_count": 1,
   "metadata": {},
   "outputs": [],
   "source": [
    "from src.data_preprocess import DataPreprocess"
   ]
  },
  {
   "cell_type": "code",
   "execution_count": 2,
   "metadata": {},
   "outputs": [],
   "source": [
    "raw_data_dir = \"data/pseudo_dialogs_ver1.txt\"\n",
    "preprocessed_data_dir = \"data/indexed/questions_answers.json\""
   ]
  },
  {
   "cell_type": "code",
   "execution_count": 3,
   "metadata": {},
   "outputs": [
    {
     "name": "stderr",
     "output_type": "stream",
     "text": [
      "10000it [00:00, 212880.74it/s]\n"
     ]
    }
   ],
   "source": [
    "data_preprocess = DataPreprocess(raw_data_dir)\n",
    "data_preprocess.preprocess_data(limit=10000)\n",
    "data_preprocess.save_data(preprocessed_data_dir)"
   ]
  }
 ],
 "metadata": {
  "kernelspec": {
   "display_name": "Python 3.10.8 64-bit",
   "language": "python",
   "name": "python3"
  },
  "language_info": {
   "codemirror_mode": {
    "name": "ipython",
    "version": 3
   },
   "file_extension": ".py",
   "mimetype": "text/x-python",
   "name": "python",
   "nbconvert_exporter": "python",
   "pygments_lexer": "ipython3",
   "version": "3.10.8"
  },
  "orig_nbformat": 4,
  "vscode": {
   "interpreter": {
    "hash": "ff58d03be2698b7e9e914e156b2d1014fd8dc65e86801c35a48dbe5474583d54"
   }
  }
 },
 "nbformat": 4,
 "nbformat_minor": 2
}
