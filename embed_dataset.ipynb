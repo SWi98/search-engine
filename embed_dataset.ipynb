{
 "cells": [
  {
   "cell_type": "code",
   "execution_count": 1,
   "metadata": {},
   "outputs": [],
   "source": [
    "from src.model import Model\n",
    "import numpy as np\n",
    "import json\n",
    "from src.embedder import DatasetEmbedder"
   ]
  },
  {
   "cell_type": "code",
   "execution_count": 2,
   "metadata": {},
   "outputs": [],
   "source": [
    "preprocessed_data_dir = \"data/preprocessed_corpus.json\"\n",
    "embeddings_dir = \"data/corpus_embeddings.json\""
   ]
  },
  {
   "cell_type": "code",
   "execution_count": 3,
   "metadata": {},
   "outputs": [
    {
     "name": "stderr",
     "output_type": "stream",
     "text": [
      "100%|██████████| 100848/100848 [1:08:33<00:00, 24.51it/s] \n"
     ]
    }
   ],
   "source": [
    "model = Model(\"distiluse-base-multilingual-cased-v1\", device=\"cuda\")\n",
    "embedder = DatasetEmbedder(preprocessed_data_dir, model)\n",
    "embedder.embed_dataset()\n",
    "embedder.save_data(embeddings_dir)"
   ]
  }
 ],
 "metadata": {
  "kernelspec": {
   "display_name": "Python 3.9.13 ('base')",
   "language": "python",
   "name": "python3"
  },
  "language_info": {
   "codemirror_mode": {
    "name": "ipython",
    "version": 3
   },
   "file_extension": ".py",
   "mimetype": "text/x-python",
   "name": "python",
   "nbconvert_exporter": "python",
   "pygments_lexer": "ipython3",
   "version": "3.9.13"
  },
  "orig_nbformat": 4,
  "vscode": {
   "interpreter": {
    "hash": "d6c35116eb95c5a6d29fc7637d7837aa7cec7c3bbc8297f0420eb291dc5ac6d1"
   }
  }
 },
 "nbformat": 4,
 "nbformat_minor": 2
}
