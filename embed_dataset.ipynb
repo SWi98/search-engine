{
 "cells": [
  {
   "cell_type": "code",
   "execution_count": 1,
   "metadata": {},
   "outputs": [],
   "source": [
    "from src.model import Model\n",
    "from src.embedder import DatasetEmbedder"
   ]
  },
  {
   "cell_type": "code",
   "execution_count": 2,
   "metadata": {},
   "outputs": [],
   "source": [
    "preprocessed_data_dir = \"data/indexed/questions_answers.json\"\n",
    "embeddings_dir = \"data/indexed/embeddings.json\""
   ]
  },
  {
   "cell_type": "code",
   "execution_count": null,
   "metadata": {},
   "outputs": [],
   "source": [
    "model = Model(\"distiluse-base-multilingual-cased-v1\")\n",
    "embedder = DatasetEmbedder(preprocessed_data_dir, model)\n",
    "embedder.embed_dataset()\n",
    "embedder.save_data(embeddings_dir)"
   ]
  }
 ],
 "metadata": {
  "kernelspec": {
   "display_name": "Python 3.10.8 64-bit",
   "language": "python",
   "name": "python3"
  },
  "language_info": {
   "codemirror_mode": {
    "name": "ipython",
    "version": 3
   },
   "file_extension": ".py",
   "mimetype": "text/x-python",
   "name": "python",
   "nbconvert_exporter": "python",
   "pygments_lexer": "ipython3",
   "version": "3.10.8"
  },
  "orig_nbformat": 4,
  "vscode": {
   "interpreter": {
    "hash": "ff58d03be2698b7e9e914e156b2d1014fd8dc65e86801c35a48dbe5474583d54"
   }
  }
 },
 "nbformat": 4,
 "nbformat_minor": 2
}
