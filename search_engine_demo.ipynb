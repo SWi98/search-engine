{
 "cells": [
  {
   "cell_type": "code",
   "execution_count": 4,
   "metadata": {},
   "outputs": [],
   "source": [
    "from src.search_engine import SearchEngine\n",
    "from src.model import Model"
   ]
  },
  {
   "cell_type": "code",
   "execution_count": 5,
   "metadata": {},
   "outputs": [],
   "source": [
    "preprocessed_data_dir = \"data/indexed/questions_answers.json\"\n",
    "embeddings_dir = \"data/indexed/embeddings.json\""
   ]
  },
  {
   "cell_type": "code",
   "execution_count": 6,
   "metadata": {},
   "outputs": [],
   "source": [
    "model = Model(\"distiluse-base-multilingual-cased-v1\")\n",
    "search = SearchEngine(embeddings_dir, preprocessed_data_dir, model)"
   ]
  },
  {
   "cell_type": "code",
   "execution_count": 7,
   "metadata": {},
   "outputs": [
    {
     "data": {
      "text/plain": [
       "{'question': 'Po kampanii wrześniowej 1.DLek raportowała 77 czołgów L.T.M.35 utraconych (wraz z wozami dowodzenia) i 52 uszkodzone lub zepsute  ',\n",
       " 'answer': ', lecz ostatecznie po naprawach straty bezpowrotne ograniczyły się do 7 czołgów i w lutym 1940 roku posiadano 195 czołgów na stanie.'}"
      ]
     },
     "execution_count": 7,
     "metadata": {},
     "output_type": "execute_result"
    }
   ],
   "source": [
    "search.run(\"Jakie czołgi stracili w kampanii wrześniowej?\")"
   ]
  }
 ],
 "metadata": {
  "kernelspec": {
   "display_name": "Python 3.10.8 64-bit",
   "language": "python",
   "name": "python3"
  },
  "language_info": {
   "codemirror_mode": {
    "name": "ipython",
    "version": 3
   },
   "file_extension": ".py",
   "mimetype": "text/x-python",
   "name": "python",
   "nbconvert_exporter": "python",
   "pygments_lexer": "ipython3",
   "version": "3.10.8"
  },
  "orig_nbformat": 4,
  "vscode": {
   "interpreter": {
    "hash": "ff58d03be2698b7e9e914e156b2d1014fd8dc65e86801c35a48dbe5474583d54"
   }
  }
 },
 "nbformat": 4,
 "nbformat_minor": 2
}
