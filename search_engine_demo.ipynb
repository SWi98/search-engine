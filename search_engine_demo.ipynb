{
 "cells": [
  {
   "cell_type": "code",
   "execution_count": 1,
   "metadata": {},
   "outputs": [],
   "source": [
    "from src.search_engine import SearchEngine\n",
    "from src.model import Model\n",
    "from sklearn.feature_extraction.text import CountVectorizer, TfidfVectorizer\n",
    "import numpy as np\n",
    "from sklearn.neighbors import NearestNeighbors\n",
    "from tqdm import tqdm"
   ]
  },
  {
   "cell_type": "code",
   "execution_count": 2,
   "metadata": {},
   "outputs": [],
   "source": [
    "def cosine_sim(a, b):\n",
    "    cos_sim = np.dot(a, b)/(np.linalg.norm(a)*np.linalg.norm(b))\n",
    "    return cos_sim"
   ]
  },
  {
   "cell_type": "code",
   "execution_count": 3,
   "metadata": {},
   "outputs": [],
   "source": [
    "def get_best_using_sparse(query, candidates, vectorizer):\n",
    "    tfidf_vectors = vectorizer.transform(candidates).toarray()\n",
    "    tfidf_query = vectorizer.transform([query]).toarray()\n",
    "    best_dist = -99999999999\n",
    "    best_idx = -1 \n",
    "    for i in range(tfidf_vectors.shape[0]):\n",
    "        # print(tfidf_query.shape, tfidf_vectors.shape)\n",
    "        sim = cosine_sim(np.ravel(tfidf_query), np.ravel(tfidf_vectors[i]))\n",
    "        if sim > best_dist:\n",
    "            best_dist = sim\n",
    "            best_idx = i\n",
    "    return best_idx"
   ]
  },
  {
   "cell_type": "code",
   "execution_count": 4,
   "metadata": {},
   "outputs": [],
   "source": [
    "preprocessed_data_dir = \"data/preprocessed_corpus.json\"\n",
    "embeddings_dir = \"data/corpus_embeddings.json\""
   ]
  },
  {
   "cell_type": "code",
   "execution_count": 5,
   "metadata": {},
   "outputs": [],
   "source": [
    "model = Model(\"distiluse-base-multilingual-cased-v1\")\n",
    "search = SearchEngine(embeddings_dir, preprocessed_data_dir, model)"
   ]
  },
  {
   "cell_type": "code",
   "execution_count": 6,
   "metadata": {},
   "outputs": [
    {
     "data": {
      "text/plain": [
       "100848"
      ]
     },
     "execution_count": 6,
     "metadata": {},
     "output_type": "execute_result"
    }
   ],
   "source": [
    "known_definitions = [text.split(\".\")[0] for text in search.text]\n",
    "len(known_definitions)"
   ]
  },
  {
   "cell_type": "code",
   "execution_count": 7,
   "metadata": {},
   "outputs": [],
   "source": [
    "\n",
    "vectorizer = TfidfVectorizer()\n",
    "tfidf_vectors = vectorizer.fit_transform(search.text)"
   ]
  },
  {
   "cell_type": "code",
   "execution_count": 54,
   "metadata": {},
   "outputs": [],
   "source": [
    "all_questions = []\n",
    "\n",
    "# Dataset A\n",
    "with open(\"data/task2_questions_with_answers.tsv\", encoding=\"utf-8\") as f:\n",
    "    for line in f.readlines():\n",
    "        line = line.strip().split(\"\\t\")\n",
    "        question, answer = line[0], line[1:]\n",
    "        all_questions.append((question, answer))\n",
    "\n",
    "# Dataset B\n",
    "# with open(\"data/test_B_questions.txt\", encoding=\"utf-8\") as questions_source:\n",
    "#     with open(\"data/test_B_answers.txt\", encoding=\"utf-8\") as ans_source:\n",
    "#         for question, answers in zip(questions_source.readlines(), ans_source.readlines()):\n",
    "#             answers = answers.strip().split(\"\\t\")\n",
    "#             all_questions.append((question.strip(), answers))"
   ]
  },
  {
   "cell_type": "code",
   "execution_count": 55,
   "metadata": {},
   "outputs": [],
   "source": [
    "# Dataset A'\n",
    "filtered_questions = []\n",
    "for i, question in enumerate(all_questions):\n",
    "    if i % 5 == 0:\n",
    "        filtered_questions.append(question)\n",
    "all_questions = filtered_questions"
   ]
  },
  {
   "cell_type": "code",
   "execution_count": 56,
   "metadata": {},
   "outputs": [
    {
     "name": "stderr",
     "output_type": "stream",
     "text": [
      "100%|██████████| 700/700 [04:56<00:00,  2.36it/s]\n"
     ]
    }
   ],
   "source": [
    "dense_correct = 0\n",
    "dense_heur_correct = 0\n",
    "dense_sparse_correct = 0\n",
    "dense_sparse_heur_correct = 0\n",
    "dense_answers = []\n",
    "dense_heur_answers = []\n",
    "dense_sparse_answers = []\n",
    "dense_sparse_heur_answers = []\n",
    "for query, answers in tqdm(all_questions):\n",
    "    yes_no_question = query[:4] == \"Czy \"\n",
    "    # print(\"Query: {}, Answers: {}\".format(query, answers))\n",
    "    dense_result = search.run(query)[0]\n",
    "    result_word = dense_result.split(\".\")[0]\n",
    "    dense_correct += int(result_word.lower() in answers)\n",
    "    dense_answers.append(result_word)\n",
    "    if yes_no_question:\n",
    "        heur_answer = \"tak\"\n",
    "    else:\n",
    "        heur_answer = result_word\n",
    "    dense_heur_correct += int(heur_answer.lower() in answers)\n",
    "    dense_heur_answers.append(heur_answer)\n",
    "\n",
    "    # print(\"Best text using dense rep: \\n\\t{}\".format(dense_result), end=\"\")\n",
    "    candidates = search.run(query, k_best=20)\n",
    "    idx_result = get_best_using_sparse(query, candidates, vectorizer)\n",
    "\n",
    "    # print(idx_result)\n",
    "    result = candidates[idx_result]\n",
    "    word_result = result.split(\".\")[0]\n",
    "    dense_sparse_correct += int(word_result.lower() in answers)\n",
    "    dense_sparse_answers.append(word_result)\n",
    "    # print(\"Best text using dense and sparse rep:\\n\\t{}\".format(result))\n",
    "    \n",
    "    if yes_no_question:\n",
    "        heur_answer = \"tak\"\n",
    "    else:\n",
    "        heur_answer = word_result\n",
    "    dense_sparse_heur_correct += int(heur_answer.lower() in answers)\n",
    "    dense_sparse_heur_answers.append(heur_answer)"
   ]
  },
  {
   "cell_type": "code",
   "execution_count": 57,
   "metadata": {},
   "outputs": [],
   "source": [
    "n = len(all_questions)"
   ]
  },
  {
   "cell_type": "code",
   "execution_count": 58,
   "metadata": {},
   "outputs": [
    {
     "name": "stdout",
     "output_type": "stream",
     "text": [
      "DENSE:\n",
      " Correct answers: 21 (3.00%)\n",
      "DENSE + SPARSE:\n",
      " Correct answers: 23 (3.29%)\n",
      "DENSE + HEUR:\n",
      " Correct answers: 57 (8.14%)\n",
      "DENSE + SPARSE + HEUR:\n",
      " Correct answers: 59 (8.43%)\n"
     ]
    }
   ],
   "source": [
    "print(\"DENSE:\\n Correct answers: {} ({:.2f}%)\".format(dense_correct, dense_correct * 100/ n))\n",
    "print(\"DENSE + SPARSE:\\n Correct answers: {} ({:.2f}%)\".format(dense_sparse_correct, dense_sparse_correct * 100/ n))\n",
    "print(\"DENSE + HEUR:\\n Correct answers: {} ({:.2f}%)\".format(dense_heur_correct, dense_heur_correct * 100/ n))\n",
    "print(\"DENSE + SPARSE + HEUR:\\n Correct answers: {} ({:.2f}%)\".format(dense_sparse_heur_correct, dense_sparse_heur_correct * 100/ n))"
   ]
  },
  {
   "cell_type": "code",
   "execution_count": 60,
   "metadata": {},
   "outputs": [],
   "source": [
    "\n",
    "with open(\"answers_A_prim.txt\", \"w+\", encoding=\"utf-8\") as f:\n",
    "    for answer in dense_sparse_heur_answers:\n",
    "        f.write(answer + '\\n')"
   ]
  }
 ],
 "metadata": {
  "kernelspec": {
   "display_name": "Python 3.9.13 ('base')",
   "language": "python",
   "name": "python3"
  },
  "language_info": {
   "codemirror_mode": {
    "name": "ipython",
    "version": 3
   },
   "file_extension": ".py",
   "mimetype": "text/x-python",
   "name": "python",
   "nbconvert_exporter": "python",
   "pygments_lexer": "ipython3",
   "version": "3.9.13"
  },
  "orig_nbformat": 4,
  "vscode": {
   "interpreter": {
    "hash": "d6c35116eb95c5a6d29fc7637d7837aa7cec7c3bbc8297f0420eb291dc5ac6d1"
   }
  }
 },
 "nbformat": 4,
 "nbformat_minor": 2
}
