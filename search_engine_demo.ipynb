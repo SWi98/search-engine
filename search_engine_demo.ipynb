{
 "cells": [
  {
   "cell_type": "code",
   "execution_count": 1,
   "metadata": {},
   "outputs": [],
   "source": [
    "from src.search_engine import SearchEngine\n",
    "from src.model import Model\n",
    "from sklearn.feature_extraction.text import CountVectorizer, TfidfVectorizer\n",
    "import numpy as np\n",
    "from sklearn.neighbors import NearestNeighbors"
   ]
  },
  {
   "cell_type": "code",
   "execution_count": 2,
   "metadata": {},
   "outputs": [],
   "source": [
    "def cosine_sim(a, b):\n",
    "    cos_sim = np.dot(a, b)/(np.linalg.norm(a)*np.linalg.norm(b))\n",
    "    return cos_sim"
   ]
  },
  {
   "cell_type": "code",
   "execution_count": 3,
   "metadata": {},
   "outputs": [],
   "source": [
    "def get_best_using_sparse(query, candidates, vectorizer):\n",
    "    tfidf_vectors = vectorizer.transform(candidates).toarray()\n",
    "    tfidf_query = vectorizer.transform([query]).toarray()\n",
    "    best_dist = -99999999999\n",
    "    best_idx = -1 \n",
    "    for i in range(tfidf_vectors.shape[0]):\n",
    "        # print(tfidf_query.shape, tfidf_vectors.shape)\n",
    "        sim = cosine_sim(np.ravel(tfidf_query), np.ravel(tfidf_vectors[i]))\n",
    "        if sim > best_dist:\n",
    "            best_dist = sim\n",
    "            best_idx = i\n",
    "    return best_idx"
   ]
  },
  {
   "cell_type": "code",
   "execution_count": 4,
   "metadata": {},
   "outputs": [],
   "source": [
    "preprocessed_data_dir = \"data/preprocessed_corpus.json\"\n",
    "embeddings_dir = \"data/corpus_embeddings.json\""
   ]
  },
  {
   "cell_type": "code",
   "execution_count": 5,
   "metadata": {},
   "outputs": [],
   "source": [
    "model = Model(\"distiluse-base-multilingual-cased-v1\")\n",
    "search = SearchEngine(embeddings_dir, preprocessed_data_dir, model)"
   ]
  },
  {
   "cell_type": "code",
   "execution_count": 6,
   "metadata": {},
   "outputs": [
    {
     "data": {
      "text/plain": [
       "100848"
      ]
     },
     "execution_count": 6,
     "metadata": {},
     "output_type": "execute_result"
    }
   ],
   "source": [
    "known_definitions = [text.split(\".\")[0] for text in search.text]\n",
    "len(known_definitions)"
   ]
  },
  {
   "cell_type": "code",
   "execution_count": 7,
   "metadata": {},
   "outputs": [],
   "source": [
    "\n",
    "vectorizer = TfidfVectorizer()\n",
    "tfidf_vectors = vectorizer.fit_transform(search.text)"
   ]
  },
  {
   "cell_type": "code",
   "execution_count": 8,
   "metadata": {},
   "outputs": [
    {
     "name": "stdout",
     "output_type": "stream",
     "text": [
      "[('Jak nazywa się pierwsza litera alfabetu greckiego?', ['alfa']), ('Jak nazywa się dowolny odcinek łączący dwa punkty okręgu?', ['cięciwa']), ('W którym państwie rozpoczyna się akcja powieści „W pustyni i w puszczy”?', ['w Egipcie']), ('Czy w państwach starożytnych powoływani byli posłowie i poselstwa?', ['tak']), ('W jakim zespole występowała Hanka w filmie „Żona dla Australijczyka”?', ['Mazowsze']), ('W którym państwie leży Bombaj?', ['w Indiach']), ('Który numer boczny nosi czołg Rudy z „Czterech pancernych”?', ['102']), ('Co budował w Egipcie inżynier Tarkowski, ojciec Stasia?', ['Kanał Sueski']), ('Czy owoce niektórych kaktusów są jadalne?', ['tak']), ('Kwartet – to ilu wykonawców?', ['czterech', 'czworo', '4'])]\n"
     ]
    }
   ],
   "source": [
    "all_questions = []\n",
    "with open(\"data/task2_questions_with_answers.tsv\", encoding=\"utf-8\") as f:\n",
    "    for line in f.readlines():\n",
    "        line = line.strip().split(\"\\t\")\n",
    "        question, answer = line[0], line[1:]\n",
    "        # question = \" \".join(question.split(\" \")[3:])\n",
    "        all_questions.append((question, answer))\n",
    "all_questions = all_questions[:10]\n",
    "print(all_questions)"
   ]
  },
  {
   "cell_type": "code",
   "execution_count": 9,
   "metadata": {},
   "outputs": [
    {
     "name": "stdout",
     "output_type": "stream",
     "text": [
      "Query: Jak nazywa się pierwsza litera alfabetu greckiego?, Answers: ['alfa']\n",
      "Best text using dense rep: \n",
      "\talfa. Definicja:  {{jęz}} nazwa pierwszej litery alfabetu greckiego, α; {{wikipedia}}\n",
      "0\n",
      "Best text using dense and sparse rep:\n",
      "\talfa. Definicja:  {{jęz}} nazwa pierwszej litery alfabetu greckiego, α; {{wikipedia}}\n",
      "\n",
      "Query: Jak nazywa się dowolny odcinek łączący dwa punkty okręgu?, Answers: ['cięciwa']\n",
      "Best text using dense rep: \n",
      "\tapsyda. Definicja:  {{astr}} jeden z dwóch skrajnych punktów orbity eliptycznej;\n",
      "5\n",
      "Best text using dense and sparse rep:\n",
      "\tcięciwa. Definicja:  {{geom}} odcinek łączący dwa dowolne punkty krzywej lub powierzchni, który nie ma innych punktów wspólnych z daną krzywą czy powierzchnią; {{wikipedia}}\n",
      "\n",
      "Query: W którym państwie rozpoczyna się akcja powieści „W pustyni i w puszczy”?, Answers: ['w Egipcie']\n",
      "Best text using dense rep: \n",
      "\tszałaput. Definicja:  {{książk}} {{żart}} ktoś pusty i lekkomyślny\n",
      "4\n",
      "Best text using dense and sparse rep:\n",
      "\tpowieściowy. Definicja:  związany z powieścią, dotyczący powieści, występujący w powieści\n",
      "\n",
      "Query: Czy w państwach starożytnych powoływani byli posłowie i poselstwa?, Answers: ['tak']\n",
      "Best text using dense rep: \n",
      "\tstarożytny. Definicja:  związany ze starożytnością, dotyczący starożytności\n",
      "0\n",
      "Best text using dense and sparse rep:\n",
      "\tstarożytny. Definicja:  związany ze starożytnością, dotyczący starożytności\n",
      "\n",
      "Query: W jakim zespole występowała Hanka w filmie „Żona dla Australijczyka”?, Answers: ['Mazowsze']\n",
      "Best text using dense rep: \n",
      "\tHanka. Definicja:  {{zdrobn}} ''od:'' Hanna\n",
      "0\n",
      "Best text using dense and sparse rep:\n",
      "\tHanka. Definicja:  {{zdrobn}} ''od:'' Hanna\n",
      "\n",
      "Query: W którym państwie leży Bombaj?, Answers: ['w Indiach']\n",
      "Best text using dense rep: \n",
      "\tbomb. Definicja:  {{wojsk}} bomba\n",
      "16\n",
      "Best text using dense and sparse rep:\n",
      "\tBombaj. Definicja:  {{geogr}} miasto w Indiach; {{wikipedia}}\n",
      "\n",
      "Query: Który numer boczny nosi czołg Rudy z „Czterech pancernych”?, Answers: ['102']\n",
      "Best text using dense rep: \n",
      "\tRod. Definicja:  {{zdrobn}} ''od imion męskich'' Rodney ''i'' Roderick\n",
      "16\n",
      "Best text using dense and sparse rep:\n",
      "\ttank. Definicja:  {{przest}} {{wojsk}} czołg\n",
      "\n",
      "Query: Co budował w Egipcie inżynier Tarkowski, ojciec Stasia?, Answers: ['Kanał Sueski']\n",
      "Best text using dense rep: \n",
      "\tEgipcjanin. Definicja:  mieszkaniec Egiptu\n",
      "11\n",
      "Best text using dense and sparse rep:\n",
      "\tkonstruktor. Definicja:  ktoś zajmujący się konstruowaniem czegoś, np. inżynier projektujący budynki\n",
      "\n",
      "Query: Czy owoce niektórych kaktusów są jadalne?, Answers: ['tak']\n",
      "Best text using dense rep: \n",
      "\torzech laskowy. Definicja:  {{spoż}} {{kulin}} {{cuk}} jadalny owoc leszczyny\n",
      "4\n",
      "Best text using dense and sparse rep:\n",
      "\tłuska. Definicja:  {{bot}} okrywa niektórych nasion lub owoców\n",
      "\n",
      "Query: Kwartet – to ilu wykonawców?, Answers: ['czterech', 'czworo', '4']\n",
      "Best text using dense rep: \n",
      "\tcyrkowiec. Definicja:  artysta występujący w cyrku\n",
      "3\n",
      "Best text using dense and sparse rep:\n",
      "\tki czort. Definicja:  {{pot}} kto to?, co to?\n",
      "\n"
     ]
    }
   ],
   "source": [
    "dense_correct = 0\n",
    "dense_sparse_correct = 0\n",
    "for query, answers in all_questions:\n",
    "    print(\"Query: {}, Answers: {}\".format(query, answers))\n",
    "    dense_result = search.run(query)[0]\n",
    "    result_word = dense_result.split(\".\")[0]\n",
    "    dense_correct += int(result_word in answers)\n",
    "    print(\"Best text using dense rep: \\n\\t{}\".format(dense_result), end=\"\")\n",
    "    candidates = search.run(query, k_best=20)\n",
    "    idx_result = get_best_using_sparse(query, candidates, vectorizer)\n",
    "    print(idx_result)\n",
    "    result = candidates[idx_result]\n",
    "    word_result = result.split(\".\")[0]\n",
    "    dense_sparse_correct += int(word_result in answers)\n",
    "    print(\"Best text using dense and sparse rep:\\n\\t{}\".format(result))"
   ]
  },
  {
   "cell_type": "code",
   "execution_count": 10,
   "metadata": {},
   "outputs": [
    {
     "name": "stdout",
     "output_type": "stream",
     "text": [
      "DENSE:\n",
      " Correct answers: 1 (10.00%)\n",
      "DENSE + SPARSE:\n",
      " Correct answers: 2 (20.00%)\n"
     ]
    }
   ],
   "source": [
    "print(\"DENSE:\\n Correct answers: {} ({:.2f}%)\".format(dense_correct, dense_correct * 100/ len(all_questions)))\n",
    "print(\"DENSE + SPARSE:\\n Correct answers: {} ({:.2f}%)\".format(dense_sparse_correct, dense_sparse_correct * 100/ len(all_questions)))"
   ]
  }
 ],
 "metadata": {
  "kernelspec": {
   "display_name": "Python 3.9.13 ('base')",
   "language": "python",
   "name": "python3"
  },
  "language_info": {
   "codemirror_mode": {
    "name": "ipython",
    "version": 3
   },
   "file_extension": ".py",
   "mimetype": "text/x-python",
   "name": "python",
   "nbconvert_exporter": "python",
   "pygments_lexer": "ipython3",
   "version": "3.9.13"
  },
  "orig_nbformat": 4,
  "vscode": {
   "interpreter": {
    "hash": "d6c35116eb95c5a6d29fc7637d7837aa7cec7c3bbc8297f0420eb291dc5ac6d1"
   }
  }
 },
 "nbformat": 4,
 "nbformat_minor": 2
}
